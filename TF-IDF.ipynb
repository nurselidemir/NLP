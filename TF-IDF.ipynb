{
 "cells": [
  {
   "cell_type": "markdown",
   "id": "5e40f8bb-7fff-4f39-bd72-ead2c297f239",
   "metadata": {},
   "source": [
    "### TF- IDF "
   ]
  },
  {
   "cell_type": "markdown",
   "id": "f65611d7-a058-4a12-980d-af3eee08a342",
   "metadata": {},
   "source": [
    "kelimelerin belgeler içinde ne kadar önemli olduğunu belirlemek için kullanılır.\n",
    "\n",
    "TF - Terim frekansı : bir kelimenin bir dökümandaki frekansını ölçer\n",
    "\n",
    "IDF - Ters döküman frekansı : bir kelimenin tüm belgelerdeki yaygınlığını ölçer.\n",
    "Yaygın kelimeler(stopwords) düşük IDF değerine sahip olur.\n",
    "\n",
    "Bir kelimenin bir dökümandaki genel önemi = TF X IDF"
   ]
  },
  {
   "cell_type": "code",
   "execution_count": 83,
   "id": "5455c3b5-a9c2-4dd4-88fa-ca07bf1368db",
   "metadata": {},
   "outputs": [],
   "source": [
    "import pandas as pd\n",
    "import numpy as np\n",
    "from sklearn.feature_extraction.text import TfidfVectorizer"
   ]
  },
  {
   "cell_type": "markdown",
   "id": "148177c7-c9a5-47d3-b786-fbf024c6eb92",
   "metadata": {},
   "source": [
    " örnek belge oluştur"
   ]
  },
  {
   "cell_type": "code",
   "execution_count": 85,
   "id": "c815d5a8-e7a2-466c-9b01-e25356b9c1b7",
   "metadata": {},
   "outputs": [],
   "source": [
    "documents = [ \n",
    "    \"köpek çok tatlı bir hayvandır\",\n",
    "    \"köpek ve kuşlar çok tatlı hayvanlardır.\",\n",
    "    \"inekler süt üretirler\"\n",
    "             ]"
   ]
  },
  {
   "cell_type": "markdown",
   "id": "bd2a5480-64f1-42cc-a4d6-6a840c14503c",
   "metadata": {},
   "source": [
    "vektorizer tanımla"
   ]
  },
  {
   "cell_type": "code",
   "execution_count": 87,
   "id": "447b81f0-8bd6-49e2-8928-f72583bbb4fe",
   "metadata": {},
   "outputs": [],
   "source": [
    "tfidf_vectorizer = TfidfVectorizer()"
   ]
  },
  {
   "cell_type": "markdown",
   "id": "11279dcd-7aaf-4914-b261-7097678837ee",
   "metadata": {},
   "source": [
    "metinleri sayısal hale çevir"
   ]
  },
  {
   "cell_type": "code",
   "execution_count": 89,
   "id": "f4c7fff8-f2b8-4e14-852d-52d4f81d0d98",
   "metadata": {},
   "outputs": [],
   "source": [
    "X = tfidf_vectorizer.fit_transform(documents)"
   ]
  },
  {
   "cell_type": "code",
   "execution_count": 90,
   "id": "5a8cd57e-4582-4af0-ac94-9f39113eaf21",
   "metadata": {},
   "outputs": [
    {
     "data": {
      "text/plain": [
       "<3x11 sparse matrix of type '<class 'numpy.float64'>'\n",
       "\twith 14 stored elements in Compressed Sparse Row format>"
      ]
     },
     "execution_count": 90,
     "metadata": {},
     "output_type": "execute_result"
    }
   ],
   "source": [
    "X"
   ]
  },
  {
   "cell_type": "markdown",
   "id": "b768984c-e865-459d-90a7-367bdac869dc",
   "metadata": {},
   "source": [
    "kelime kümesini incele"
   ]
  },
  {
   "cell_type": "code",
   "execution_count": 92,
   "id": "7f2d7d76-2875-4873-a22c-83accdc46172",
   "metadata": {},
   "outputs": [],
   "source": [
    "feature_names = tfidf_vectorizer.get_feature_names_out()"
   ]
  },
  {
   "cell_type": "code",
   "execution_count": 93,
   "id": "38e7e71f-f90a-4b48-9287-8b69de4de90c",
   "metadata": {},
   "outputs": [
    {
     "data": {
      "text/plain": [
       "array(['bir', 'hayvandır', 'hayvanlardır', 'inekler', 'kuşlar', 'köpek',\n",
       "       'süt', 'tatlı', 've', 'çok', 'üretirler'], dtype=object)"
      ]
     },
     "execution_count": 93,
     "metadata": {},
     "output_type": "execute_result"
    }
   ],
   "source": [
    "feature_names"
   ]
  },
  {
   "cell_type": "markdown",
   "id": "880aa35f-a879-42c3-9b49-de134ef651a6",
   "metadata": {},
   "source": [
    "vektör temsilini incele"
   ]
  },
  {
   "cell_type": "code",
   "execution_count": 95,
   "id": "f51c20c6-b63e-417f-ad54-5c9591eb2511",
   "metadata": {},
   "outputs": [],
   "source": [
    "vektor_temsili = X.toarray()"
   ]
  },
  {
   "cell_type": "code",
   "execution_count": 96,
   "id": "34b6ae0a-8676-4d52-8824-8f3a793dcb45",
   "metadata": {},
   "outputs": [
    {
     "data": {
      "text/plain": [
       "array([[0.51741994, 0.51741994, 0.        , 0.        , 0.        ,\n",
       "        0.3935112 , 0.        , 0.3935112 , 0.        , 0.3935112 ,\n",
       "        0.        ],\n",
       "       [0.        , 0.        , 0.45954803, 0.        , 0.45954803,\n",
       "        0.34949812, 0.        , 0.34949812, 0.45954803, 0.34949812,\n",
       "        0.        ],\n",
       "       [0.        , 0.        , 0.        , 0.57735027, 0.        ,\n",
       "        0.        , 0.57735027, 0.        , 0.        , 0.        ,\n",
       "        0.57735027]])"
      ]
     },
     "execution_count": 96,
     "metadata": {},
     "output_type": "execute_result"
    }
   ],
   "source": [
    "vektor_temsili"
   ]
  },
  {
   "cell_type": "code",
   "execution_count": 97,
   "id": "a21daeb3-bef9-4698-8f7c-101339d538f2",
   "metadata": {},
   "outputs": [],
   "source": [
    "df_tfidf = pd.DataFrame(vektor_temsili, columns = feature_names)"
   ]
  },
  {
   "cell_type": "code",
   "execution_count": 98,
   "id": "f98e641c-fe0e-4e15-be8b-c8aaa8ca7a77",
   "metadata": {},
   "outputs": [
    {
     "data": {
      "text/html": [
       "<div>\n",
       "<style scoped>\n",
       "    .dataframe tbody tr th:only-of-type {\n",
       "        vertical-align: middle;\n",
       "    }\n",
       "\n",
       "    .dataframe tbody tr th {\n",
       "        vertical-align: top;\n",
       "    }\n",
       "\n",
       "    .dataframe thead th {\n",
       "        text-align: right;\n",
       "    }\n",
       "</style>\n",
       "<table border=\"1\" class=\"dataframe\">\n",
       "  <thead>\n",
       "    <tr style=\"text-align: right;\">\n",
       "      <th></th>\n",
       "      <th>bir</th>\n",
       "      <th>hayvandır</th>\n",
       "      <th>hayvanlardır</th>\n",
       "      <th>inekler</th>\n",
       "      <th>kuşlar</th>\n",
       "      <th>köpek</th>\n",
       "      <th>süt</th>\n",
       "      <th>tatlı</th>\n",
       "      <th>ve</th>\n",
       "      <th>çok</th>\n",
       "      <th>üretirler</th>\n",
       "    </tr>\n",
       "  </thead>\n",
       "  <tbody>\n",
       "    <tr>\n",
       "      <th>0</th>\n",
       "      <td>0.51742</td>\n",
       "      <td>0.51742</td>\n",
       "      <td>0.000000</td>\n",
       "      <td>0.00000</td>\n",
       "      <td>0.000000</td>\n",
       "      <td>0.393511</td>\n",
       "      <td>0.00000</td>\n",
       "      <td>0.393511</td>\n",
       "      <td>0.000000</td>\n",
       "      <td>0.393511</td>\n",
       "      <td>0.00000</td>\n",
       "    </tr>\n",
       "    <tr>\n",
       "      <th>1</th>\n",
       "      <td>0.00000</td>\n",
       "      <td>0.00000</td>\n",
       "      <td>0.459548</td>\n",
       "      <td>0.00000</td>\n",
       "      <td>0.459548</td>\n",
       "      <td>0.349498</td>\n",
       "      <td>0.00000</td>\n",
       "      <td>0.349498</td>\n",
       "      <td>0.459548</td>\n",
       "      <td>0.349498</td>\n",
       "      <td>0.00000</td>\n",
       "    </tr>\n",
       "    <tr>\n",
       "      <th>2</th>\n",
       "      <td>0.00000</td>\n",
       "      <td>0.00000</td>\n",
       "      <td>0.000000</td>\n",
       "      <td>0.57735</td>\n",
       "      <td>0.000000</td>\n",
       "      <td>0.000000</td>\n",
       "      <td>0.57735</td>\n",
       "      <td>0.000000</td>\n",
       "      <td>0.000000</td>\n",
       "      <td>0.000000</td>\n",
       "      <td>0.57735</td>\n",
       "    </tr>\n",
       "  </tbody>\n",
       "</table>\n",
       "</div>"
      ],
      "text/plain": [
       "       bir  hayvandır  hayvanlardır  inekler    kuşlar     köpek      süt  \\\n",
       "0  0.51742    0.51742      0.000000  0.00000  0.000000  0.393511  0.00000   \n",
       "1  0.00000    0.00000      0.459548  0.00000  0.459548  0.349498  0.00000   \n",
       "2  0.00000    0.00000      0.000000  0.57735  0.000000  0.000000  0.57735   \n",
       "\n",
       "      tatlı        ve       çok  üretirler  \n",
       "0  0.393511  0.000000  0.393511    0.00000  \n",
       "1  0.349498  0.459548  0.349498    0.00000  \n",
       "2  0.000000  0.000000  0.000000    0.57735  "
      ]
     },
     "execution_count": 98,
     "metadata": {},
     "output_type": "execute_result"
    }
   ],
   "source": [
    "df_tfidf"
   ]
  },
  {
   "cell_type": "markdown",
   "id": "b7d72e86-b94c-4d42-8557-dbded4c915b1",
   "metadata": {},
   "source": [
    "ortalama tf idf değerlerine bakalım"
   ]
  },
  {
   "cell_type": "code",
   "execution_count": 100,
   "id": "b16f9d36-d322-4209-81b0-32539efacda9",
   "metadata": {},
   "outputs": [],
   "source": [
    "tf_idf = df_tfidf.mean(axis = 0)"
   ]
  },
  {
   "cell_type": "code",
   "execution_count": 107,
   "id": "d679b0a7-28d1-4f02-922a-563047d05b7a",
   "metadata": {},
   "outputs": [
    {
     "data": {
      "text/plain": [
       "bir             0.172473\n",
       "hayvandır       0.172473\n",
       "hayvanlardır    0.153183\n",
       "inekler         0.192450\n",
       "kuşlar          0.153183\n",
       "köpek           0.247670\n",
       "süt             0.192450\n",
       "tatlı           0.247670\n",
       "ve              0.153183\n",
       "çok             0.247670\n",
       "üretirler       0.192450\n",
       "dtype: float64"
      ]
     },
     "execution_count": 107,
     "metadata": {},
     "output_type": "execute_result"
    }
   ],
   "source": [
    "tf_idf"
   ]
  },
  {
   "cell_type": "code",
   "execution_count": null,
   "id": "27db5cda-567b-4bf7-b93a-18f2918c59c3",
   "metadata": {},
   "outputs": [],
   "source": []
  }
 ],
 "metadata": {
  "kernelspec": {
   "display_name": "Python [conda env:base] *",
   "language": "python",
   "name": "conda-base-py"
  },
  "language_info": {
   "codemirror_mode": {
    "name": "ipython",
    "version": 3
   },
   "file_extension": ".py",
   "mimetype": "text/x-python",
   "name": "python",
   "nbconvert_exporter": "python",
   "pygments_lexer": "ipython3",
   "version": "3.12.7"
  }
 },
 "nbformat": 4,
 "nbformat_minor": 5
}
