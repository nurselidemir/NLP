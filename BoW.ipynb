{
 "cells": [
  {
   "cell_type": "markdown",
   "id": "eefb3d50-968b-4291-9681-ef0bc80cfb02",
   "metadata": {},
   "source": [
    "#### count vectorizer içeriye aktar"
   ]
  },
  {
   "cell_type": "code",
   "execution_count": 3,
   "id": "a35e7c03-f5ad-4507-a855-5cfdd805ac10",
   "metadata": {},
   "outputs": [],
   "source": [
    "from sklearn.feature_extraction.text import CountVectorizer"
   ]
  },
  {
   "cell_type": "markdown",
   "id": "0b63911b-2ef3-4565-928a-c4bf5069c030",
   "metadata": {},
   "source": [
    "#### veri seti oluştur"
   ]
  },
  {
   "cell_type": "code",
   "execution_count": 6,
   "id": "5cba5d11-ab27-442e-a17d-f41b238542c9",
   "metadata": {},
   "outputs": [],
   "source": [
    "documents = [\n",
    "    \"kedi bahçede\",\n",
    "    \"kedi evde\"]"
   ]
  },
  {
   "cell_type": "markdown",
   "id": "6206ff15-5176-4d30-9173-0f4d1c2efd46",
   "metadata": {},
   "source": [
    "#### vectorizer tanımla"
   ]
  },
  {
   "cell_type": "code",
   "execution_count": 9,
   "id": "5d678221-70bc-4936-94ec-c2ccfc8cfd7e",
   "metadata": {},
   "outputs": [],
   "source": [
    "vectorizer = CountVectorizer()"
   ]
  },
  {
   "cell_type": "markdown",
   "id": "7e183192-8777-48a2-a775-0de1c964bb55",
   "metadata": {},
   "source": [
    "#### metni sayısal vektörlere çevir"
   ]
  },
  {
   "cell_type": "code",
   "execution_count": 16,
   "id": "b7b1af44-4110-420c-8e04-552a14695752",
   "metadata": {},
   "outputs": [],
   "source": [
    "X = vectorizer.fit_transform(documents)"
   ]
  },
  {
   "cell_type": "markdown",
   "id": "b17387a9-6eef-4f51-954a-4d0d485fc0de",
   "metadata": {},
   "source": [
    "#### kelime kümesi oluşturma [bahçede, evde, kedi]"
   ]
  },
  {
   "cell_type": "code",
   "execution_count": 30,
   "id": "fd3378da-fa7c-4d95-ab9d-cc30e77caf65",
   "metadata": {},
   "outputs": [],
   "source": [
    "feature_names = vectorizer.get_feature_names_out() \n",
    "# kelime kümesini oluşturma"
   ]
  },
  {
   "cell_type": "markdown",
   "id": "ef32f97d-34a2-4586-8707-30bb6fe91d3d",
   "metadata": {},
   "source": [
    "#### vektör temsili"
   ]
  },
  {
   "cell_type": "code",
   "execution_count": 33,
   "id": "92fb99bf-a5bc-40fc-830f-7f0afe8a3df1",
   "metadata": {},
   "outputs": [],
   "source": [
    "vector_temsili = X.toarray()"
   ]
  },
  {
   "cell_type": "code",
   "execution_count": 35,
   "id": "a250fbf6-10fe-4c9d-a6ce-e16c37db4522",
   "metadata": {},
   "outputs": [
    {
     "data": {
      "text/plain": [
       "array([[1, 0, 1],\n",
       "       [0, 1, 1]])"
      ]
     },
     "execution_count": 35,
     "metadata": {},
     "output_type": "execute_result"
    }
   ],
   "source": [
    "vector_temsili"
   ]
  }
 ],
 "metadata": {
  "kernelspec": {
   "display_name": "Python [conda env:base] *",
   "language": "python",
   "name": "conda-base-py"
  },
  "language_info": {
   "codemirror_mode": {
    "name": "ipython",
    "version": 3
   },
   "file_extension": ".py",
   "mimetype": "text/x-python",
   "name": "python",
   "nbconvert_exporter": "python",
   "pygments_lexer": "ipython3",
   "version": "3.12.7"
  }
 },
 "nbformat": 4,
 "nbformat_minor": 5
}
