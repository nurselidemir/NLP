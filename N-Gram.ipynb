{
 "cells": [
  {
   "cell_type": "markdown",
   "id": "b8af1268-e178-4f7d-862f-2f59488a899b",
   "metadata": {},
   "source": [
    "## N-GRAM "
   ]
  },
  {
   "cell_type": "markdown",
   "id": "94dafc4b-3203-405a-a7cf-9bdd630373af",
   "metadata": {},
   "source": [
    "Bir dil modelinde kullanılan kelime veya karakter dizisinin uzunluğunu belirten bir terimdir. "
   ]
  },
  {
   "cell_type": "markdown",
   "id": "66195772-677c-4795-9a3d-bdcbb174672c",
   "metadata": {},
   "source": [
    "### N-GRAM MODELLERİ"
   ]
  },
  {
   "cell_type": "markdown",
   "id": "87ab303a-83f1-4ff7-9a83-1e807b6e715c",
   "metadata": {},
   "source": [
    "Metinleri n kelimelik veya n karakterlik kısımlara bölerek analiz etmemizi sağlayan yöntem"
   ]
  },
  {
   "cell_type": "markdown",
   "id": "bb1ab3e9-2819-4cdf-bd0a-aad08835b8c8",
   "metadata": {},
   "source": [
    "N = 1 ise Uni-Gram : metinleri 1 kelimelik kısımlara bölerek analiz ediyor\n",
    "\n",
    "N = 2 ise Bi-Gram : metinleri 2 kelimelik kısımlara bölerek analiz ediyor\n",
    "\n",
    "N = 3 ise Tri-Gram :metinleri 3 kelimelik kısımlara bölerek analiz ediyor"
   ]
  },
  {
   "cell_type": "code",
   "execution_count": 32,
   "id": "f74a7cde-81ad-49a8-a511-2c3021250e1b",
   "metadata": {},
   "outputs": [],
   "source": [
    "from sklearn.feature_extraction.text import CountVectorizer\n",
    "# metin verilerini sayısal özellikler haline getiren bir araçtır."
   ]
  },
  {
   "cell_type": "code",
   "execution_count": 18,
   "id": "98c7c93e-41a2-47d8-9f60-d424fa5d2d20",
   "metadata": {},
   "outputs": [],
   "source": [
    "# örnek metin\n",
    "documents = [\n",
    "      \"Bu çalışma NGram çalışmasıdır\",\n",
    "      \"Bu çalışma doğal dil işleme çalışmasıdır.\"\n",
    "            ]\n"
   ]
  },
  {
   "cell_type": "code",
   "execution_count": 24,
   "id": "642fc6ef-13f1-45a2-b9aa-2fab9cbb3a46",
   "metadata": {},
   "outputs": [],
   "source": [
    "# unigram, bigram, trigram şeklinde 3 farklı n değerine sahip gram modeli tanımlayalım\n",
    "vektorizer_unigram = CountVectorizer(ngram_range = (1,1))\n",
    "vektorizer_bigram = CountVectorizer(ngram_range = (2,2))\n",
    "vektorizer_trigram = CountVectorizer(ngram_range = (3,3))"
   ]
  },
  {
   "cell_type": "code",
   "execution_count": 34,
   "id": "bc862264-a34b-4fbd-aed9-62dcbab4036a",
   "metadata": {},
   "outputs": [
    {
     "data": {
      "text/plain": [
       "<2x7 sparse matrix of type '<class 'numpy.int64'>'\n",
       "\twith 10 stored elements in Compressed Sparse Row format>"
      ]
     },
     "execution_count": 34,
     "metadata": {},
     "output_type": "execute_result"
    }
   ],
   "source": [
    "# unigram\n",
    "X_unigram = vektorizer_unigram.fit_transform(documents)\n",
    "# fit_transform fonksiyonu, metin verisini alır, belirli n-gramları\n",
    "# çıkarır ve bu n-gramların sayısını içeren bir matris oluşturur\n",
    "unigram_features = vektorizer_unigram.get_feature_names_out()\n",
    "# get_feature_names_out() fonksiyonu, metin vektörleştiricisi tarafından\n",
    "# öğrenilen bu özelliklerin adlarını döndürür\n",
    "X_unigram"
   ]
  },
  {
   "cell_type": "code",
   "execution_count": 36,
   "id": "1fb87074-b378-41ae-b0cd-236619df4a5d",
   "metadata": {},
   "outputs": [
    {
     "data": {
      "text/plain": [
       "<2x7 sparse matrix of type '<class 'numpy.int64'>'\n",
       "\twith 8 stored elements in Compressed Sparse Row format>"
      ]
     },
     "execution_count": 36,
     "metadata": {},
     "output_type": "execute_result"
    }
   ],
   "source": [
    "# bigram\n",
    "X_bigram = vektorizer_bigram.fit_transform(documents)\n",
    "bigram_features = vektorizer_bigram.get_feature_names_out()\n",
    "X_bigram"
   ]
  },
  {
   "cell_type": "code",
   "execution_count": 41,
   "id": "b02b07a5-580e-4375-87a4-fcaf846a90e6",
   "metadata": {},
   "outputs": [
    {
     "data": {
      "text/plain": [
       "<2x6 sparse matrix of type '<class 'numpy.int64'>'\n",
       "\twith 6 stored elements in Compressed Sparse Row format>"
      ]
     },
     "execution_count": 41,
     "metadata": {},
     "output_type": "execute_result"
    }
   ],
   "source": [
    "# trigram\n",
    "X_trigram = vektorizer_trigram.fit_transform(documents)\n",
    "trigram_features = vektorizer_trigram.get_feature_names_out()\n",
    "X_trigram"
   ]
  },
  {
   "cell_type": "code",
   "execution_count": null,
   "id": "927e4a38-e44c-43bc-8dca-a117ab073359",
   "metadata": {},
   "outputs": [],
   "source": []
  }
 ],
 "metadata": {
  "kernelspec": {
   "display_name": "Python [conda env:base] *",
   "language": "python",
   "name": "conda-base-py"
  },
  "language_info": {
   "codemirror_mode": {
    "name": "ipython",
    "version": 3
   },
   "file_extension": ".py",
   "mimetype": "text/x-python",
   "name": "python",
   "nbconvert_exporter": "python",
   "pygments_lexer": "ipython3",
   "version": "3.12.7"
  }
 },
 "nbformat": 4,
 "nbformat_minor": 5
}
