{
 "cells": [
  {
   "cell_type": "code",
   "execution_count": 2,
   "id": "8946c73b-904d-462c-b684-79e40707b883",
   "metadata": {},
   "outputs": [],
   "source": [
    "import nltk"
   ]
  },
  {
   "cell_type": "code",
   "execution_count": 3,
   "id": "d83d1512-d4e8-4c05-bd4b-511228562dd9",
   "metadata": {},
   "outputs": [],
   "source": [
    "from nltk.corpus import stopwords"
   ]
  },
  {
   "cell_type": "code",
   "execution_count": 4,
   "id": "6f6fc60c-1645-40e1-b0ec-6acb1f57dcd1",
   "metadata": {},
   "outputs": [
    {
     "name": "stderr",
     "output_type": "stream",
     "text": [
      "[nltk_data] Downloading package stopwords to\n",
      "[nltk_data]     /Users/nurseli/nltk_data...\n",
      "[nltk_data]   Unzipping corpora/stopwords.zip.\n"
     ]
    },
    {
     "data": {
      "text/plain": [
       "True"
      ]
     },
     "execution_count": 4,
     "metadata": {},
     "output_type": "execute_result"
    }
   ],
   "source": [
    "nltk.download(\"stopwords\")"
   ]
  },
  {
   "cell_type": "markdown",
   "id": "8223872c-dc61-4d6f-bb4f-fff9c7365973",
   "metadata": {},
   "source": [
    "### ingilizce stop words analizi"
   ]
  },
  {
   "cell_type": "code",
   "execution_count": 5,
   "id": "493e5502-f8ac-4b3a-b8f2-1092ac29004c",
   "metadata": {},
   "outputs": [],
   "source": [
    "stop_words_eng = set (stopwords.words(\"english\"))"
   ]
  },
  {
   "cell_type": "code",
   "execution_count": 6,
   "id": "d973b318-6831-4c9b-ae85-a441a98e5dec",
   "metadata": {},
   "outputs": [
    {
     "data": {
      "text/plain": [
       "{'a',\n",
       " 'about',\n",
       " 'above',\n",
       " 'after',\n",
       " 'again',\n",
       " 'against',\n",
       " 'ain',\n",
       " 'all',\n",
       " 'am',\n",
       " 'an',\n",
       " 'and',\n",
       " 'any',\n",
       " 'are',\n",
       " 'aren',\n",
       " \"aren't\",\n",
       " 'as',\n",
       " 'at',\n",
       " 'be',\n",
       " 'because',\n",
       " 'been',\n",
       " 'before',\n",
       " 'being',\n",
       " 'below',\n",
       " 'between',\n",
       " 'both',\n",
       " 'but',\n",
       " 'by',\n",
       " 'can',\n",
       " 'couldn',\n",
       " \"couldn't\",\n",
       " 'd',\n",
       " 'did',\n",
       " 'didn',\n",
       " \"didn't\",\n",
       " 'do',\n",
       " 'does',\n",
       " 'doesn',\n",
       " \"doesn't\",\n",
       " 'doing',\n",
       " 'don',\n",
       " \"don't\",\n",
       " 'down',\n",
       " 'during',\n",
       " 'each',\n",
       " 'few',\n",
       " 'for',\n",
       " 'from',\n",
       " 'further',\n",
       " 'had',\n",
       " 'hadn',\n",
       " \"hadn't\",\n",
       " 'has',\n",
       " 'hasn',\n",
       " \"hasn't\",\n",
       " 'have',\n",
       " 'haven',\n",
       " \"haven't\",\n",
       " 'having',\n",
       " 'he',\n",
       " \"he'd\",\n",
       " \"he'll\",\n",
       " \"he's\",\n",
       " 'her',\n",
       " 'here',\n",
       " 'hers',\n",
       " 'herself',\n",
       " 'him',\n",
       " 'himself',\n",
       " 'his',\n",
       " 'how',\n",
       " 'i',\n",
       " \"i'd\",\n",
       " \"i'll\",\n",
       " \"i'm\",\n",
       " \"i've\",\n",
       " 'if',\n",
       " 'in',\n",
       " 'into',\n",
       " 'is',\n",
       " 'isn',\n",
       " \"isn't\",\n",
       " 'it',\n",
       " \"it'd\",\n",
       " \"it'll\",\n",
       " \"it's\",\n",
       " 'its',\n",
       " 'itself',\n",
       " 'just',\n",
       " 'll',\n",
       " 'm',\n",
       " 'ma',\n",
       " 'me',\n",
       " 'mightn',\n",
       " \"mightn't\",\n",
       " 'more',\n",
       " 'most',\n",
       " 'mustn',\n",
       " \"mustn't\",\n",
       " 'my',\n",
       " 'myself',\n",
       " 'needn',\n",
       " \"needn't\",\n",
       " 'no',\n",
       " 'nor',\n",
       " 'not',\n",
       " 'now',\n",
       " 'o',\n",
       " 'of',\n",
       " 'off',\n",
       " 'on',\n",
       " 'once',\n",
       " 'only',\n",
       " 'or',\n",
       " 'other',\n",
       " 'our',\n",
       " 'ours',\n",
       " 'ourselves',\n",
       " 'out',\n",
       " 'over',\n",
       " 'own',\n",
       " 're',\n",
       " 's',\n",
       " 'same',\n",
       " 'shan',\n",
       " \"shan't\",\n",
       " 'she',\n",
       " \"she'd\",\n",
       " \"she'll\",\n",
       " \"she's\",\n",
       " 'should',\n",
       " \"should've\",\n",
       " 'shouldn',\n",
       " \"shouldn't\",\n",
       " 'so',\n",
       " 'some',\n",
       " 'such',\n",
       " 't',\n",
       " 'than',\n",
       " 'that',\n",
       " \"that'll\",\n",
       " 'the',\n",
       " 'their',\n",
       " 'theirs',\n",
       " 'them',\n",
       " 'themselves',\n",
       " 'then',\n",
       " 'there',\n",
       " 'these',\n",
       " 'they',\n",
       " \"they'd\",\n",
       " \"they'll\",\n",
       " \"they're\",\n",
       " \"they've\",\n",
       " 'this',\n",
       " 'those',\n",
       " 'through',\n",
       " 'to',\n",
       " 'too',\n",
       " 'under',\n",
       " 'until',\n",
       " 'up',\n",
       " 've',\n",
       " 'very',\n",
       " 'was',\n",
       " 'wasn',\n",
       " \"wasn't\",\n",
       " 'we',\n",
       " \"we'd\",\n",
       " \"we'll\",\n",
       " \"we're\",\n",
       " \"we've\",\n",
       " 'were',\n",
       " 'weren',\n",
       " \"weren't\",\n",
       " 'what',\n",
       " 'when',\n",
       " 'where',\n",
       " 'which',\n",
       " 'while',\n",
       " 'who',\n",
       " 'whom',\n",
       " 'why',\n",
       " 'will',\n",
       " 'with',\n",
       " 'won',\n",
       " \"won't\",\n",
       " 'wouldn',\n",
       " \"wouldn't\",\n",
       " 'y',\n",
       " 'you',\n",
       " \"you'd\",\n",
       " \"you'll\",\n",
       " \"you're\",\n",
       " \"you've\",\n",
       " 'your',\n",
       " 'yours',\n",
       " 'yourself',\n",
       " 'yourselves'}"
      ]
     },
     "execution_count": 6,
     "metadata": {},
     "output_type": "execute_result"
    }
   ],
   "source": [
    "stop_words_eng"
   ]
  },
  {
   "cell_type": "code",
   "execution_count": 7,
   "id": "29296660-fbb6-415c-a0b4-3e437d23ac74",
   "metadata": {},
   "outputs": [],
   "source": [
    "text = \"There are same examples of handling stop words from some texts.\""
   ]
  },
  {
   "cell_type": "code",
   "execution_count": 8,
   "id": "8dc1821e-e7bb-4621-8f5e-d215c0f71e60",
   "metadata": {},
   "outputs": [],
   "source": [
    "text_list = text.split()"
   ]
  },
  {
   "cell_type": "code",
   "execution_count": 9,
   "id": "a9d4d61f-abbe-4183-8f9a-ad2995a2a21b",
   "metadata": {},
   "outputs": [
    {
     "data": {
      "text/plain": [
       "['There',\n",
       " 'are',\n",
       " 'same',\n",
       " 'examples',\n",
       " 'of',\n",
       " 'handling',\n",
       " 'stop',\n",
       " 'words',\n",
       " 'from',\n",
       " 'some',\n",
       " 'texts.']"
      ]
     },
     "execution_count": 9,
     "metadata": {},
     "output_type": "execute_result"
    }
   ],
   "source": [
    "text_list"
   ]
  },
  {
   "cell_type": "code",
   "execution_count": 10,
   "id": "084b0d43-b8a2-421f-b53e-f4bd03aa94c5",
   "metadata": {},
   "outputs": [],
   "source": [
    "filtered_words = [word for word in text_list if word.lower() not in stop_words_eng]"
   ]
  },
  {
   "cell_type": "code",
   "execution_count": 12,
   "id": "7cd4dd6d-8429-40bd-a710-739618821eac",
   "metadata": {},
   "outputs": [],
   "source": [
    "# text_list listesindeki her bir word elemanını alır, küçük harfe dönüştürür (word.lower()) \n",
    "# ve bu dönüşümle birlikte işleme devam eder. stop_words_eng listesinde yer almayan kelimeleri, \n",
    "# text_list listesinden filtreleyip geri döndürür."
   ]
  },
  {
   "cell_type": "code",
   "execution_count": 11,
   "id": "486b9582-6d72-44cf-9e14-31104fdec076",
   "metadata": {},
   "outputs": [
    {
     "data": {
      "text/plain": [
       "['examples', 'handling', 'stop', 'words', 'texts.']"
      ]
     },
     "execution_count": 11,
     "metadata": {},
     "output_type": "execute_result"
    }
   ],
   "source": [
    "filtered_words"
   ]
  },
  {
   "cell_type": "markdown",
   "id": "a749cebc-e571-47b6-9b12-55bb035dc96a",
   "metadata": {},
   "source": [
    "### kütüphanesiz stop words çıkarımı"
   ]
  },
  {
   "cell_type": "code",
   "execution_count": 13,
   "id": "b6b3470b-f282-4d94-b5b3-525fe0b053b2",
   "metadata": {},
   "outputs": [],
   "source": [
    "# stop words listesi oluştur"
   ]
  },
  {
   "cell_type": "code",
   "execution_count": 14,
   "id": "f43cc546-e767-40bb-abe3-6005b1d5ed15",
   "metadata": {},
   "outputs": [],
   "source": [
    "tr_stopwords = [\"için\", \"bu\", \"ile\", \"mu\", \"mi\", \"özel\"]"
   ]
  },
  {
   "cell_type": "code",
   "execution_count": 15,
   "id": "5a11ca83-7312-462c-b396-8a26cfd7f3a1",
   "metadata": {},
   "outputs": [],
   "source": [
    "metin = \"Bu bir denemedir. Amacımız bu metinde bulunan özel karakterleri elemek mi acaba?\""
   ]
  },
  {
   "cell_type": "code",
   "execution_count": 16,
   "id": "08b900b8-1b95-4d9e-99e6-aa468913b255",
   "metadata": {},
   "outputs": [],
   "source": [
    "filtered_words = [word for word in metin.split() if word.lower() not in tr_stopwords]"
   ]
  },
  {
   "cell_type": "code",
   "execution_count": 17,
   "id": "02c371e7-02cd-48e6-9a83-a17a5a0aaa73",
   "metadata": {},
   "outputs": [
    {
     "data": {
      "text/plain": [
       "['bir',\n",
       " 'denemedir.',\n",
       " 'Amacımız',\n",
       " 'metinde',\n",
       " 'bulunan',\n",
       " 'karakterleri',\n",
       " 'elemek',\n",
       " 'acaba?']"
      ]
     },
     "execution_count": 17,
     "metadata": {},
     "output_type": "execute_result"
    }
   ],
   "source": [
    "filtered_words"
   ]
  },
  {
   "cell_type": "code",
   "execution_count": 25,
   "id": "aac0d879-d02d-407d-86f7-3199a24aa887",
   "metadata": {},
   "outputs": [],
   "source": [
    "filtered_stopwords = set([word.lower() for word in metin.split() if word.lower()  in tr_stopwords])"
   ]
  },
  {
   "cell_type": "code",
   "execution_count": 26,
   "id": "41002afa-1d8d-456a-985c-01b68cc57336",
   "metadata": {},
   "outputs": [
    {
     "data": {
      "text/plain": [
       "{'bu', 'mi', 'özel'}"
      ]
     },
     "execution_count": 26,
     "metadata": {},
     "output_type": "execute_result"
    }
   ],
   "source": [
    "filtered_stopwords"
   ]
  },
  {
   "cell_type": "code",
   "execution_count": null,
   "id": "eaf1a720-e512-4cbd-964e-87a544a0ace2",
   "metadata": {},
   "outputs": [],
   "source": []
  }
 ],
 "metadata": {
  "kernelspec": {
   "display_name": "Python 3 (ipykernel)",
   "language": "python",
   "name": "python3"
  },
  "language_info": {
   "codemirror_mode": {
    "name": "ipython",
    "version": 3
   },
   "file_extension": ".py",
   "mimetype": "text/x-python",
   "name": "python",
   "nbconvert_exporter": "python",
   "pygments_lexer": "ipython3",
   "version": "3.12.2"
  }
 },
 "nbformat": 4,
 "nbformat_minor": 5
}
