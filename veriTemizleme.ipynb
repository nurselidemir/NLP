{
 "cells": [
  {
   "cell_type": "markdown",
   "id": "650f456e-18a5-40dc-807e-83ceba1c815e",
   "metadata": {},
   "source": [
    "### metinlerde bulunan fazla boşlukları kaldırma"
   ]
  },
  {
   "cell_type": "code",
   "execution_count": 1,
   "id": "c1473e60-9d33-4997-a82b-a73d1294c72b",
   "metadata": {},
   "outputs": [],
   "source": [
    "text = \"Hello,  World!    2035\""
   ]
  },
  {
   "cell_type": "code",
   "execution_count": 3,
   "id": "33ed947f-9e72-45b6-90cd-9435da5fdce3",
   "metadata": {},
   "outputs": [
    {
     "data": {
      "text/plain": [
       "['Hello,', 'World!', '2035']"
      ]
     },
     "execution_count": 3,
     "metadata": {},
     "output_type": "execute_result"
    }
   ],
   "source": [
    "text.split()\n",
    "## kelimeleri ayırır."
   ]
  },
  {
   "cell_type": "code",
   "execution_count": 6,
   "id": "5494b9fa-b4fd-4685-a0f6-3a75aaa3a49f",
   "metadata": {},
   "outputs": [],
   "source": [
    "cleaned_text = \" \".join(text.split())"
   ]
  },
  {
   "cell_type": "code",
   "execution_count": 7,
   "id": "8033e11c-afaa-40e6-b1ff-b499df4f121d",
   "metadata": {},
   "outputs": [
    {
     "data": {
      "text/plain": [
       "'Hello, World! 2035'"
      ]
     },
     "execution_count": 7,
     "metadata": {},
     "output_type": "execute_result"
    }
   ],
   "source": [
    "cleaned_text"
   ]
  },
  {
   "cell_type": "markdown",
   "id": "4ed2c8c4-5125-4b9d-809d-926f20b49fe3",
   "metadata": {},
   "source": [
    "### büyük --> küçük harf çevirimi"
   ]
  },
  {
   "cell_type": "code",
   "execution_count": 8,
   "id": "a0982df0-b54d-4b25-8cd1-5b2096c7c4e2",
   "metadata": {},
   "outputs": [
    {
     "data": {
      "text/plain": [
       "'hello, world! 2035'"
      ]
     },
     "execution_count": 8,
     "metadata": {},
     "output_type": "execute_result"
    }
   ],
   "source": [
    "text = \"Hello, World! 2035\"\n",
    "text.lower() # küçük harfe çevir"
   ]
  },
  {
   "cell_type": "markdown",
   "id": "ffb78557-7464-4d26-bb95-674a86ee0c3b",
   "metadata": {},
   "source": [
    "### noktalama işaretlerini kaldırma"
   ]
  },
  {
   "cell_type": "code",
   "execution_count": 9,
   "id": "3cabff55-9f34-487b-8304-4a82d13c5fa5",
   "metadata": {},
   "outputs": [],
   "source": [
    "import string"
   ]
  },
  {
   "cell_type": "code",
   "execution_count": 10,
   "id": "045aa1c4-3d0a-455e-97c5-8bd10303cdef",
   "metadata": {},
   "outputs": [],
   "source": [
    "text = \"Hello, World! 2035\""
   ]
  },
  {
   "cell_type": "code",
   "execution_count": 13,
   "id": "3e28fc7e-4e99-4382-8ee0-f0082a3249fa",
   "metadata": {},
   "outputs": [],
   "source": [
    "cleaned_text1 = text.translate(str.maketrans(\"\", \"\", string.punctuation))\n",
    "## ilk iki argüman boş hiçbir karakteri değiştirmeden sadece punctuationlar ortadan kaldırılır"
   ]
  },
  {
   "cell_type": "code",
   "execution_count": 14,
   "id": "560e467e-7589-489c-8e8b-bf9fa8a0394f",
   "metadata": {},
   "outputs": [
    {
     "data": {
      "text/plain": [
       "'Hello World 2035'"
      ]
     },
     "execution_count": 14,
     "metadata": {},
     "output_type": "execute_result"
    }
   ],
   "source": [
    "cleaned_text1\n"
   ]
  },
  {
   "cell_type": "markdown",
   "id": "7d9fa6ab-fbd4-4485-8694-06348b3de1f7",
   "metadata": {},
   "source": [
    "### özel karakterleri kaldırma"
   ]
  },
  {
   "cell_type": "code",
   "execution_count": 15,
   "id": "4aa63220-9f11-4a78-a262-7d5f21d2d42f",
   "metadata": {},
   "outputs": [],
   "source": [
    "import re"
   ]
  },
  {
   "cell_type": "code",
   "execution_count": 16,
   "id": "50314ebc-e581-4033-b8a0-f603a258890f",
   "metadata": {},
   "outputs": [],
   "source": [
    "text = \"Hello, World! 2035%\""
   ]
  },
  {
   "cell_type": "code",
   "execution_count": 19,
   "id": "1a98a57f-a7f4-4e31-b99b-a551d3f144a9",
   "metadata": {},
   "outputs": [],
   "source": [
    "cleaned_text2 = re.sub(r\"[^A-Za-z0-9\\s]\", \"\", text)"
   ]
  },
  {
   "cell_type": "code",
   "execution_count": 20,
   "id": "f57eb9b3-9d7c-48d3-8431-b8083d9d5e6a",
   "metadata": {},
   "outputs": [
    {
     "data": {
      "text/plain": [
       "'Hello World 2035'"
      ]
     },
     "execution_count": 20,
     "metadata": {},
     "output_type": "execute_result"
    }
   ],
   "source": [
    "cleaned_text2"
   ]
  },
  {
   "cell_type": "markdown",
   "id": "4705c9e2-b460-42d3-b0a6-ef563ac66262",
   "metadata": {},
   "source": [
    "### yazım hatalarını düzeltme"
   ]
  },
  {
   "cell_type": "code",
   "execution_count": 22,
   "id": "3e5b7830-85ed-40aa-af43-e9b75ea6c05d",
   "metadata": {},
   "outputs": [],
   "source": [
    "from textblob import TextBlob \n",
    "## metin analizinde kullanılan kütüphane"
   ]
  },
  {
   "cell_type": "code",
   "execution_count": 23,
   "id": "a737aef7-8f54-4749-9028-0c3cba98a5d1",
   "metadata": {},
   "outputs": [],
   "source": [
    "text = \"Hellio, Wirld! 2035\""
   ]
  },
  {
   "cell_type": "code",
   "execution_count": 24,
   "id": "f4153788-88d4-4301-9102-073b97bddac9",
   "metadata": {},
   "outputs": [],
   "source": [
    "cleaned_text3 = TextBlob(text).correct()\n",
    "## yazım hatalarını düzeltir"
   ]
  },
  {
   "cell_type": "code",
   "execution_count": 26,
   "id": "a13d5f0a-5d41-428f-be20-f8ec8f664716",
   "metadata": {},
   "outputs": [
    {
     "data": {
      "text/plain": [
       "TextBlob(\"Hello, World! 2035\")"
      ]
     },
     "execution_count": 26,
     "metadata": {},
     "output_type": "execute_result"
    }
   ],
   "source": [
    "cleaned_text3"
   ]
  },
  {
   "cell_type": "markdown",
   "id": "d6e2b0e7-ada4-4252-a606-e99c5e20caab",
   "metadata": {},
   "source": [
    "### html ya da url etiketlerini kaldır"
   ]
  },
  {
   "cell_type": "code",
   "execution_count": 30,
   "id": "6c32164f-e142-4c32-83ba-798f54e4a69d",
   "metadata": {},
   "outputs": [],
   "source": [
    "from bs4 import BeautifulSoup"
   ]
  },
  {
   "cell_type": "code",
   "execution_count": 32,
   "id": "e9a27458-4ba3-4991-bf95-f7bbe935f1d9",
   "metadata": {},
   "outputs": [],
   "source": [
    "html_text = \"<div>Hello, World! 2035</div> \""
   ]
  },
  {
   "cell_type": "code",
   "execution_count": 33,
   "id": "db822963-9b3e-46c9-b051-e46d5b03968e",
   "metadata": {},
   "outputs": [
    {
     "data": {
      "text/plain": [
       "'Hello, World! 2035 '"
      ]
     },
     "execution_count": 33,
     "metadata": {},
     "output_type": "execute_result"
    }
   ],
   "source": [
    "BeautifulSoup(html_text, \"html.parser\").get_text()"
   ]
  },
  {
   "cell_type": "code",
   "execution_count": 34,
   "id": "118ad242-fc7d-4722-9bf5-4e71f77119da",
   "metadata": {},
   "outputs": [],
   "source": [
    "# beautiful soup ile html yapısını parse et, get_text ile text kısmını çek"
   ]
  },
  {
   "cell_type": "code",
   "execution_count": null,
   "id": "ce7b9009-2821-4039-9175-42c518336725",
   "metadata": {},
   "outputs": [],
   "source": []
  }
 ],
 "metadata": {
  "kernelspec": {
   "display_name": "Python 3 (ipykernel)",
   "language": "python",
   "name": "python3"
  },
  "language_info": {
   "codemirror_mode": {
    "name": "ipython",
    "version": 3
   },
   "file_extension": ".py",
   "mimetype": "text/x-python",
   "name": "python",
   "nbconvert_exporter": "python",
   "pygments_lexer": "ipython3",
   "version": "3.12.2"
  }
 },
 "nbformat": 4,
 "nbformat_minor": 5
}
